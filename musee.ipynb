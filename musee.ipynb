{
 "cells": [
  {
   "cell_type": "markdown",
   "metadata": {},
   "source": [
    "# Liste des musées de France"
   ]
  },
  {
   "cell_type": "markdown",
   "metadata": {},
   "source": [
    "initialisation"
   ]
  },
  {
   "cell_type": "code",
   "execution_count": 51,
   "metadata": {},
   "outputs": [
    {
     "data": {
      "text/html": [
       "<div>\n",
       "<style scoped>\n",
       "    .dataframe tbody tr th:only-of-type {\n",
       "        vertical-align: middle;\n",
       "    }\n",
       "\n",
       "    .dataframe tbody tr th {\n",
       "        vertical-align: top;\n",
       "    }\n",
       "\n",
       "    .dataframe thead th {\n",
       "        text-align: right;\n",
       "    }\n",
       "</style>\n",
       "<table border=\"1\" class=\"dataframe\">\n",
       "  <thead>\n",
       "    <tr style=\"text-align: right;\">\n",
       "      <th></th>\n",
       "      <th>osm_id</th>\n",
       "      <th>name</th>\n",
       "      <th>number</th>\n",
       "      <th>street</th>\n",
       "      <th>postal_code</th>\n",
       "      <th>city</th>\n",
       "      <th>country</th>\n",
       "      <th>country_code</th>\n",
       "      <th>lat</th>\n",
       "      <th>lon</th>\n",
       "      <th>website</th>\n",
       "      <th>email</th>\n",
       "      <th>phone</th>\n",
       "      <th>fax</th>\n",
       "      <th>tags</th>\n",
       "      <th>description</th>\n",
       "      <th>date_added</th>\n",
       "      <th>wikidata</th>\n",
       "    </tr>\n",
       "  </thead>\n",
       "  <tbody>\n",
       "    <tr>\n",
       "      <th>0</th>\n",
       "      <td>4540234591</td>\n",
       "      <td>3 bis f</td>\n",
       "      <td>109</td>\n",
       "      <td>Avenue du Petit Barthélémy</td>\n",
       "      <td>13617.0</td>\n",
       "      <td>Aix-en-Provence</td>\n",
       "      <td>France</td>\n",
       "      <td>fr</td>\n",
       "      <td>43.521207</td>\n",
       "      <td>5.439875</td>\n",
       "      <td>http://www.3bisf.com</td>\n",
       "      <td>contact@3bisf.com</td>\n",
       "      <td>3.344216e+10</td>\n",
       "      <td>NaN</td>\n",
       "      <td>osm:museum;art:art contemporain</td>\n",
       "      <td>NaN</td>\n",
       "      <td>44116,0076388889</td>\n",
       "      <td>NaN</td>\n",
       "    </tr>\n",
       "    <tr>\n",
       "      <th>1</th>\n",
       "      <td>4388745689</td>\n",
       "      <td>A casa di Losari</td>\n",
       "      <td>NaN</td>\n",
       "      <td>T 30</td>\n",
       "      <td>20226.0</td>\n",
       "      <td>Belgodère</td>\n",
       "      <td>France</td>\n",
       "      <td>fr</td>\n",
       "      <td>42.638732</td>\n",
       "      <td>9.007660</td>\n",
       "      <td>NaN</td>\n",
       "      <td>NaN</td>\n",
       "      <td>NaN</td>\n",
       "      <td>NaN</td>\n",
       "      <td>osm:museum</td>\n",
       "      <td>NaN</td>\n",
       "      <td>43338,9393981481</td>\n",
       "      <td>NaN</td>\n",
       "    </tr>\n",
       "    <tr>\n",
       "      <th>2</th>\n",
       "      <td>4426176194</td>\n",
       "      <td>À l'homme volant</td>\n",
       "      <td>35</td>\n",
       "      <td>Grande Rue</td>\n",
       "      <td>72300.0</td>\n",
       "      <td>Sablé-sur-Sarthe</td>\n",
       "      <td>France</td>\n",
       "      <td>fr</td>\n",
       "      <td>47.839656</td>\n",
       "      <td>-0.334043</td>\n",
       "      <td>NaN</td>\n",
       "      <td>NaN</td>\n",
       "      <td>3.324395e+10</td>\n",
       "      <td>NaN</td>\n",
       "      <td>osm:museum;type:centre d'interpretation</td>\n",
       "      <td>NaN</td>\n",
       "      <td>42644,4636574074</td>\n",
       "      <td>NaN</td>\n",
       "    </tr>\n",
       "    <tr>\n",
       "      <th>3</th>\n",
       "      <td>7652598615</td>\n",
       "      <td>Abbadiale - Maison des arts</td>\n",
       "      <td>NaN</td>\n",
       "      <td>Rue du Gabizos</td>\n",
       "      <td>65400.0</td>\n",
       "      <td>Arras-en-Lavedan</td>\n",
       "      <td>France</td>\n",
       "      <td>fr</td>\n",
       "      <td>42.990826</td>\n",
       "      <td>-0.128057</td>\n",
       "      <td>https://www.abbadiale.fr/</td>\n",
       "      <td>NaN</td>\n",
       "      <td>3.363317e+10</td>\n",
       "      <td>NaN</td>\n",
       "      <td>osm:museum</td>\n",
       "      <td>NaN</td>\n",
       "      <td>44120,0466782407</td>\n",
       "      <td>NaN</td>\n",
       "    </tr>\n",
       "    <tr>\n",
       "      <th>4</th>\n",
       "      <td>121580330</td>\n",
       "      <td>Abbaye</td>\n",
       "      <td>NaN</td>\n",
       "      <td>Rue de l'Abbaye</td>\n",
       "      <td>39210.0</td>\n",
       "      <td>Château-Chalon</td>\n",
       "      <td>France</td>\n",
       "      <td>fr</td>\n",
       "      <td>46.753866</td>\n",
       "      <td>5.624296</td>\n",
       "      <td>NaN</td>\n",
       "      <td>NaN</td>\n",
       "      <td>NaN</td>\n",
       "      <td>NaN</td>\n",
       "      <td>osm:museum;art:architecture</td>\n",
       "      <td>NaN</td>\n",
       "      <td>43102,5491898148</td>\n",
       "      <td>NaN</td>\n",
       "    </tr>\n",
       "    <tr>\n",
       "      <th>...</th>\n",
       "      <td>...</td>\n",
       "      <td>...</td>\n",
       "      <td>...</td>\n",
       "      <td>...</td>\n",
       "      <td>...</td>\n",
       "      <td>...</td>\n",
       "      <td>...</td>\n",
       "      <td>...</td>\n",
       "      <td>...</td>\n",
       "      <td>...</td>\n",
       "      <td>...</td>\n",
       "      <td>...</td>\n",
       "      <td>...</td>\n",
       "      <td>...</td>\n",
       "      <td>...</td>\n",
       "      <td>...</td>\n",
       "      <td>...</td>\n",
       "      <td>...</td>\n",
       "    </tr>\n",
       "    <tr>\n",
       "      <th>3779</th>\n",
       "      <td>1348524503</td>\n",
       "      <td>Vivarium du Moulin</td>\n",
       "      <td>NaN</td>\n",
       "      <td>Rue Principale</td>\n",
       "      <td>68610.0</td>\n",
       "      <td>Thann-Guebwiller</td>\n",
       "      <td>France</td>\n",
       "      <td>fr</td>\n",
       "      <td>47.942258</td>\n",
       "      <td>7.149613</td>\n",
       "      <td>NaN</td>\n",
       "      <td>NaN</td>\n",
       "      <td>NaN</td>\n",
       "      <td>NaN</td>\n",
       "      <td>osm:museum</td>\n",
       "      <td>NaN</td>\n",
       "      <td>40747,8717476852</td>\n",
       "      <td>NaN</td>\n",
       "    </tr>\n",
       "    <tr>\n",
       "      <th>3780</th>\n",
       "      <td>577287841</td>\n",
       "      <td>Voyage au Temps des impressionnistes</td>\n",
       "      <td>NaN</td>\n",
       "      <td>Rue de Léry</td>\n",
       "      <td>95430.0</td>\n",
       "      <td>Auvers-sur-Oise</td>\n",
       "      <td>France</td>\n",
       "      <td>fr</td>\n",
       "      <td>49.072057</td>\n",
       "      <td>2.166167</td>\n",
       "      <td>NaN</td>\n",
       "      <td>NaN</td>\n",
       "      <td>NaN</td>\n",
       "      <td>NaN</td>\n",
       "      <td>osm:museum</td>\n",
       "      <td>NaN</td>\n",
       "      <td>41141,7272222222</td>\n",
       "      <td>NaN</td>\n",
       "    </tr>\n",
       "    <tr>\n",
       "      <th>3781</th>\n",
       "      <td>145062184</td>\n",
       "      <td>Wines and Spirits Museum</td>\n",
       "      <td>NaN</td>\n",
       "      <td>Corniche Bonaparte</td>\n",
       "      <td>83150.0</td>\n",
       "      <td>Bandol</td>\n",
       "      <td>France</td>\n",
       "      <td>fr</td>\n",
       "      <td>43.128031</td>\n",
       "      <td>5.749484</td>\n",
       "      <td>NaN</td>\n",
       "      <td>NaN</td>\n",
       "      <td>NaN</td>\n",
       "      <td>NaN</td>\n",
       "      <td>osm:museum</td>\n",
       "      <td>NaN</td>\n",
       "      <td>42367,7135069444</td>\n",
       "      <td>NaN</td>\n",
       "    </tr>\n",
       "    <tr>\n",
       "      <th>3782</th>\n",
       "      <td>82988725</td>\n",
       "      <td>Xanxotea</td>\n",
       "      <td>NaN</td>\n",
       "      <td>La Place</td>\n",
       "      <td>64240.0</td>\n",
       "      <td>Isturits</td>\n",
       "      <td>France</td>\n",
       "      <td>fr</td>\n",
       "      <td>43.364834</td>\n",
       "      <td>-1.203580</td>\n",
       "      <td>http://www.xanxotea.com/</td>\n",
       "      <td>NaN</td>\n",
       "      <td>NaN</td>\n",
       "      <td>NaN</td>\n",
       "      <td>osm:museum</td>\n",
       "      <td>Musée ethnographique Xanxotea pour découvrir l...</td>\n",
       "      <td>44129,580775463</td>\n",
       "      <td>NaN</td>\n",
       "    </tr>\n",
       "    <tr>\n",
       "      <th>3783</th>\n",
       "      <td>277107550</td>\n",
       "      <td>Xylotheque - Kiosque Pedagogique</td>\n",
       "      <td>NaN</td>\n",
       "      <td>Impasse de la Haie Vive</td>\n",
       "      <td>45590.0</td>\n",
       "      <td>Saint-Cyr-en-Val</td>\n",
       "      <td>France</td>\n",
       "      <td>fr</td>\n",
       "      <td>47.825888</td>\n",
       "      <td>1.967795</td>\n",
       "      <td>NaN</td>\n",
       "      <td>NaN</td>\n",
       "      <td>NaN</td>\n",
       "      <td>NaN</td>\n",
       "      <td>osm:museum</td>\n",
       "      <td>NaN</td>\n",
       "      <td>43331,4758449074</td>\n",
       "      <td>NaN</td>\n",
       "    </tr>\n",
       "  </tbody>\n",
       "</table>\n",
       "<p>3784 rows × 18 columns</p>\n",
       "</div>"
      ],
      "text/plain": [
       "          osm_id                                  name number  \\\n",
       "0     4540234591                               3 bis f    109   \n",
       "1     4388745689                      A casa di Losari    NaN   \n",
       "2     4426176194                      À l'homme volant     35   \n",
       "3     7652598615           Abbadiale - Maison des arts    NaN   \n",
       "4      121580330                                Abbaye    NaN   \n",
       "...          ...                                   ...    ...   \n",
       "3779  1348524503                    Vivarium du Moulin    NaN   \n",
       "3780   577287841  Voyage au Temps des impressionnistes    NaN   \n",
       "3781   145062184              Wines and Spirits Museum    NaN   \n",
       "3782    82988725                              Xanxotea    NaN   \n",
       "3783   277107550      Xylotheque - Kiosque Pedagogique    NaN   \n",
       "\n",
       "                          street  postal_code              city country  \\\n",
       "0     Avenue du Petit Barthélémy      13617.0   Aix-en-Provence  France   \n",
       "1                           T 30      20226.0         Belgodère  France   \n",
       "2                     Grande Rue      72300.0  Sablé-sur-Sarthe  France   \n",
       "3                 Rue du Gabizos      65400.0  Arras-en-Lavedan  France   \n",
       "4                Rue de l'Abbaye      39210.0    Château-Chalon  France   \n",
       "...                          ...          ...               ...     ...   \n",
       "3779              Rue Principale      68610.0  Thann-Guebwiller  France   \n",
       "3780                 Rue de Léry      95430.0   Auvers-sur-Oise  France   \n",
       "3781          Corniche Bonaparte      83150.0            Bandol  France   \n",
       "3782                    La Place      64240.0          Isturits  France   \n",
       "3783     Impasse de la Haie Vive      45590.0  Saint-Cyr-en-Val  France   \n",
       "\n",
       "     country_code        lat       lon                    website  \\\n",
       "0              fr  43.521207  5.439875       http://www.3bisf.com   \n",
       "1              fr  42.638732  9.007660                        NaN   \n",
       "2              fr  47.839656 -0.334043                        NaN   \n",
       "3              fr  42.990826 -0.128057  https://www.abbadiale.fr/   \n",
       "4              fr  46.753866  5.624296                        NaN   \n",
       "...           ...        ...       ...                        ...   \n",
       "3779           fr  47.942258  7.149613                        NaN   \n",
       "3780           fr  49.072057  2.166167                        NaN   \n",
       "3781           fr  43.128031  5.749484                        NaN   \n",
       "3782           fr  43.364834 -1.203580   http://www.xanxotea.com/   \n",
       "3783           fr  47.825888  1.967795                        NaN   \n",
       "\n",
       "                  email         phone  fax  \\\n",
       "0     contact@3bisf.com  3.344216e+10  NaN   \n",
       "1                   NaN           NaN  NaN   \n",
       "2                   NaN  3.324395e+10  NaN   \n",
       "3                   NaN  3.363317e+10  NaN   \n",
       "4                   NaN           NaN  NaN   \n",
       "...                 ...           ...  ...   \n",
       "3779                NaN           NaN  NaN   \n",
       "3780                NaN           NaN  NaN   \n",
       "3781                NaN           NaN  NaN   \n",
       "3782                NaN           NaN  NaN   \n",
       "3783                NaN           NaN  NaN   \n",
       "\n",
       "                                         tags  \\\n",
       "0             osm:museum;art:art contemporain   \n",
       "1                                  osm:museum   \n",
       "2     osm:museum;type:centre d'interpretation   \n",
       "3                                  osm:museum   \n",
       "4                 osm:museum;art:architecture   \n",
       "...                                       ...   \n",
       "3779                               osm:museum   \n",
       "3780                               osm:museum   \n",
       "3781                               osm:museum   \n",
       "3782                               osm:museum   \n",
       "3783                               osm:museum   \n",
       "\n",
       "                                            description        date_added  \\\n",
       "0                                                   NaN  44116,0076388889   \n",
       "1                                                   NaN  43338,9393981481   \n",
       "2                                                   NaN  42644,4636574074   \n",
       "3                                                   NaN  44120,0466782407   \n",
       "4                                                   NaN  43102,5491898148   \n",
       "...                                                 ...               ...   \n",
       "3779                                                NaN  40747,8717476852   \n",
       "3780                                                NaN  41141,7272222222   \n",
       "3781                                                NaN  42367,7135069444   \n",
       "3782  Musée ethnographique Xanxotea pour découvrir l...   44129,580775463   \n",
       "3783                                                NaN  43331,4758449074   \n",
       "\n",
       "     wikidata  \n",
       "0         NaN  \n",
       "1         NaN  \n",
       "2         NaN  \n",
       "3         NaN  \n",
       "4         NaN  \n",
       "...       ...  \n",
       "3779      NaN  \n",
       "3780      NaN  \n",
       "3781      NaN  \n",
       "3782      NaN  \n",
       "3783      NaN  \n",
       "\n",
       "[3784 rows x 18 columns]"
      ]
     },
     "execution_count": 51,
     "metadata": {},
     "output_type": "execute_result"
    }
   ],
   "source": [
    "import pandas as pd\n",
    "musee = pd.read_csv(\"liste-des-musees-de-france-2021.csv\", encoding='latin-1', sep=\";\")\n",
    "\n",
    "musee"
   ]
  },
  {
   "cell_type": "markdown",
   "metadata": {},
   "source": [
    "## Répondre aux questions du manager"
   ]
  },
  {
   "cell_type": "markdown",
   "metadata": {},
   "source": [
    "1. Combien y-a-t-il de musées en France métropolitaine ?"
   ]
  },
  {
   "cell_type": "code",
   "execution_count": 127,
   "metadata": {},
   "outputs": [
    {
     "name": "stdout",
     "output_type": "stream",
     "text": [
      "Il y a 3784 musées en France métropolitaine.\n"
     ]
    }
   ],
   "source": [
    "print(\"Il y a\",len(musee), \"musées en France métropolitaine.\")"
   ]
  },
  {
   "cell_type": "markdown",
   "metadata": {},
   "source": [
    "2. Dans quelle(s) ville(s) y a-t-il de plus de musées ?"
   ]
  },
  {
   "cell_type": "code",
   "execution_count": 261,
   "metadata": {},
   "outputs": [
    {
     "name": "stdout",
     "output_type": "stream",
     "text": [
      "La ville dans laquelle il y a le plus de musées est Paris\n"
     ]
    }
   ],
   "source": [
    "print(\"La ville dans laquelle il y a le plus de musées est\",musee['city'].value_counts().idxmax())"
   ]
  },
  {
   "cell_type": "markdown",
   "metadata": {},
   "source": [
    "3. Quel est le nombre moyen de musées par ville ?\n"
   ]
  },
  {
   "cell_type": "code",
   "execution_count": 262,
   "metadata": {},
   "outputs": [
    {
     "name": "stdout",
     "output_type": "stream",
     "text": [
      "Le nombre moyen de musées par ville est 1.647930283224401\n"
     ]
    }
   ],
   "source": [
    "print(\"Le nombre moyen de musées par ville est\",musee['city'].value_counts().mean())"
   ]
  },
  {
   "cell_type": "markdown",
   "metadata": {},
   "source": [
    "4. Quel est le nombre médian de musées par ville ?"
   ]
  },
  {
   "cell_type": "code",
   "execution_count": 263,
   "metadata": {},
   "outputs": [
    {
     "name": "stdout",
     "output_type": "stream",
     "text": [
      "Le nombre médian de musées par ville est 1.0\n"
     ]
    }
   ],
   "source": [
    "print(\"Le nombre médian de musées par ville est\",musee['city'].value_counts().median())"
   ]
  },
  {
   "cell_type": "markdown",
   "metadata": {},
   "source": [
    "5. Comment sont répartis les musées par type (en pourcentage) ?\n"
   ]
  },
  {
   "cell_type": "code",
   "execution_count": 284,
   "metadata": {},
   "outputs": [
    {
     "data": {
      "text/html": [
       "<div>\n",
       "<style scoped>\n",
       "    .dataframe tbody tr th:only-of-type {\n",
       "        vertical-align: middle;\n",
       "    }\n",
       "\n",
       "    .dataframe tbody tr th {\n",
       "        vertical-align: top;\n",
       "    }\n",
       "\n",
       "    .dataframe thead th {\n",
       "        text-align: right;\n",
       "    }\n",
       "</style>\n",
       "<table border=\"1\" class=\"dataframe\">\n",
       "  <thead>\n",
       "    <tr style=\"text-align: right;\">\n",
       "      <th></th>\n",
       "      <th>tags</th>\n",
       "    </tr>\n",
       "  </thead>\n",
       "  <tbody>\n",
       "    <tr>\n",
       "      <th>osm:museum</th>\n",
       "      <td>57.509254</td>\n",
       "    </tr>\n",
       "    <tr>\n",
       "      <th>osm:museum;type:ecomusee</th>\n",
       "      <td>10.232681</td>\n",
       "    </tr>\n",
       "    <tr>\n",
       "      <th>osm:museum;type:musee technique et industriel</th>\n",
       "      <td>5.129561</td>\n",
       "    </tr>\n",
       "    <tr>\n",
       "      <th>osm:museum;type:musee d'histoire</th>\n",
       "      <td>3.490217</td>\n",
       "    </tr>\n",
       "    <tr>\n",
       "      <th>osm:museum;art:architecture</th>\n",
       "      <td>3.199365</td>\n",
       "    </tr>\n",
       "  </tbody>\n",
       "</table>\n",
       "</div>"
      ],
      "text/plain": [
       "                                                    tags\n",
       "osm:museum                                     57.509254\n",
       "osm:museum;type:ecomusee                       10.232681\n",
       "osm:museum;type:musee technique et industriel   5.129561\n",
       "osm:museum;type:musee d'histoire                3.490217\n",
       "osm:museum;art:architecture                     3.199365"
      ]
     },
     "execution_count": 284,
     "metadata": {},
     "output_type": "execute_result"
    }
   ],
   "source": [
    "percentage = musee['tags'].value_counts(normalize=True)\n",
    "(percentage * 100).to_frame().head()"
   ]
  },
  {
   "cell_type": "markdown",
   "metadata": {},
   "source": [
    "6. Combien y-a-t-il de musées dont le nom commence par \"Château\" ?\n"
   ]
  },
  {
   "cell_type": "code",
   "execution_count": 285,
   "metadata": {},
   "outputs": [
    {
     "name": "stdout",
     "output_type": "stream",
     "text": [
      "Il y a 57 musées dont le nom commence par le mot château.\n"
     ]
    }
   ],
   "source": [
    "print(\"Il y a\", len(musee.loc[musee[\"name\"].str.startswith(\"Château\")]), \"musées dont le nom commence par le mot château.\")"
   ]
  },
  {
   "cell_type": "markdown",
   "metadata": {},
   "source": [
    "7. Pour combien de musées dispose-t-on de l'adresse du site web ?\n"
   ]
  },
  {
   "cell_type": "code",
   "execution_count": 359,
   "metadata": {},
   "outputs": [
    {
     "name": "stdout",
     "output_type": "stream",
     "text": [
      "Ce fichier contient le site web de 1636 musées.\n"
     ]
    }
   ],
   "source": [
    "print(\"Ce fichier contient le site web de\", len(musee.website.dropna()), \"musées.\")"
   ]
  },
  {
   "cell_type": "markdown",
   "metadata": {},
   "source": [
    "8. Quel département français possède le plus de musées sur son territoire ?\n"
   ]
  },
  {
   "cell_type": "code",
   "execution_count": 374,
   "metadata": {},
   "outputs": [
    {
     "name": "stdout",
     "output_type": "stream",
     "text": [
      "Le départment ayant le plus de musée est le 75 .\n"
     ]
    }
   ],
   "source": [
    "departement = musee['postal_code'].dropna()\n",
    "departement = departement.astype(int).astype(str).str.slice(stop=2)\n",
    "\n",
    "print(\"Le départment ayant le plus de musée est le\", departement.value_counts().idxmax(),\".\")"
   ]
  },
  {
   "cell_type": "markdown",
   "metadata": {},
   "source": [
    "9. Quel département français possède le moins de musées sur son territoire ?"
   ]
  },
  {
   "cell_type": "code",
   "execution_count": 377,
   "metadata": {},
   "outputs": [
    {
     "name": "stdout",
     "output_type": "stream",
     "text": [
      "Le départment ayant le moins de musée est le 98 .\n"
     ]
    }
   ],
   "source": [
    "print(\"Le départment ayant le moins de musée est le\",  departement.value_counts().idxmin(),\".\")"
   ]
  },
  {
   "cell_type": "markdown",
   "metadata": {},
   "source": [
    "10. Combien de musées ont \"Napoléon\" dans leur nom ?"
   ]
  },
  {
   "cell_type": "code",
   "execution_count": 378,
   "metadata": {},
   "outputs": [
    {
     "name": "stdout",
     "output_type": "stream",
     "text": [
      "Il y a 4 musées comprenant 'Napoléon' dans leur nom.\n"
     ]
    }
   ],
   "source": [
    "print(\"Il y a\", len(musee[musee[\"name\"].str.contains(\"Napoléon\")]), \"musées comprenant 'Napoléon' dans leur nom.\")"
   ]
  },
  {
   "cell_type": "markdown",
   "metadata": {},
   "source": [
    "https://www.data.gouv.fr/fr/datasets/frequentation-des-musees-de-france/\n",
    "Dataset data.gouv sur la fréquentation des musées\n",
    "Utile pour savoir quelle est l'attractivité des musées et voir quels sont les plus visités dans chaque catégorie, dans chaque département, dans chaque arrondissement, etc.\n",
    "https://www.data.gouv.fr/fr/datasets/culturecheznous/\n",
    "Dataset data.gouv recensant les institutions culturelles proposant des ressources en ligne. Joindre ce dataset permettrait de voir quels sont les musées qui proposent du contenu sur Internet, dans quels départements, quels types de musées, quel est le pourcentage de musées proposant du contenu en ligne, etc."
   ]
  }
 ],
 "metadata": {
  "interpreter": {
   "hash": "43c78f0e116de47e9b50801e5273325f63c4e47e141f05110ec6498a588fa73e"
  },
  "kernelspec": {
   "display_name": "Python 3.8.8 64-bit ('base': conda)",
   "name": "python3"
  },
  "language_info": {
   "codemirror_mode": {
    "name": "ipython",
    "version": 3
   },
   "file_extension": ".py",
   "mimetype": "text/x-python",
   "name": "python",
   "nbconvert_exporter": "python",
   "pygments_lexer": "ipython3",
   "version": "3.8.8"
  },
  "orig_nbformat": 4
 },
 "nbformat": 4,
 "nbformat_minor": 2
}
